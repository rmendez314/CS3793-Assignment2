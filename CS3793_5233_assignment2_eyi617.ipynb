{
  "nbformat": 4,
  "nbformat_minor": 0,
  "metadata": {
    "colab": {
      "name": "CS3793_5233_assignment2_eyi617.ipynb",
      "provenance": [],
      "collapsed_sections": [],
      "include_colab_link": true
    },
    "kernelspec": {
      "name": "python3",
      "display_name": "Python 3"
    }
  },
  "cells": [
    {
      "cell_type": "markdown",
      "metadata": {
        "id": "view-in-github",
        "colab_type": "text"
      },
      "source": [
        "<a href=\"https://colab.research.google.com/github/rmendez314/CS3793-Assignment2/blob/main/CS3793_5233_assignment2_eyi617.ipynb\" target=\"_parent\"><img src=\"https://colab.research.google.com/assets/colab-badge.svg\" alt=\"Open In Colab\"/></a>"
      ]
    },
    {
      "cell_type": "markdown",
      "metadata": {
        "id": "9wUL_Fy5qUDI"
      },
      "source": [
        "# UTSA CS 3793/5233: Assignment-2\n",
        "\n",
        "**Mendez - Ramiro - (eyi617)**\n",
        "\n",
        "\n",
        "\n",
        "\n"
      ]
    },
    {
      "cell_type": "markdown",
      "metadata": {
        "id": "NM8b9KVYsETT"
      },
      "source": [
        "## Learning Objectives\n",
        "\n",
        "\n",
        "\n",
        "*   Game Playing\n",
        "*   Chess - Board Setup & Rules\n",
        "*   Adversarial Search\n",
        "*   AI - Random vs MinMax\n"
      ]
    },
    {
      "cell_type": "markdown",
      "metadata": {
        "id": "LzR4Ic34zJlT"
      },
      "source": [
        "\n",
        "## Description\n",
        "\n",
        "This assignment is focused on **game playing** and creating a proper **AI for chess**. \n",
        "In the following sections, you will complete a series of tasks to create a chess game board, rules for each chess piece, a Random AI and a MinMax AI that plays a game of chess for both players (white and black).\n",
        "\n",
        "The base structure of the code is provided. You are supposed to write code for each of the functions. Comments are provided on what should be done. You **CANNOT** use a complete chess library and change the base code structure completely. However, you **CAN** change the code layout and name/format of the functions.\n"
      ]
    },
    {
      "cell_type": "markdown",
      "metadata": {
        "id": "YeYRnesWqvLm"
      },
      "source": [
        "#Chess Board Setup & Rules\n",
        "\n",
        "In this section, you will write code to import the necessary libraries and create:\n",
        "\n",
        "1.   **ChessBoard** - This part will contain code to initialize the board, draw the board, get the board state and move piece.\n",
        "2.   **ChessRules** - This part will contain code for the chess rules for each piece.\n",
        "\n"
      ]
    },
    {
      "cell_type": "markdown",
      "metadata": {
        "id": "vnPfmHAOteOI"
      },
      "source": [
        "##Import Libraries\n",
        "\n",
        "The code here will contain only **import** statements. A base list of the required libraries are already imported. You will most likely not need any other libraries, but if needed, add the import statements here. As mentioned before, you can not use any premade chess libraries."
      ]
    },
    {
      "cell_type": "code",
      "metadata": {
        "id": "f9apbZGptej6"
      },
      "source": [
        "# your code goes here\n",
        "import string\n",
        "import random\n",
        "import os\n",
        "import sys\n",
        "import time\n",
        "from IPython.display import clear_output\n"
      ],
      "execution_count": 3,
      "outputs": []
    },
    {
      "cell_type": "markdown",
      "metadata": {
        "id": "IUVZIK6ctMi4"
      },
      "source": [
        "##ChessBoard\n",
        "\n",
        "(10 points)\n",
        "\n",
        "Fill the code in the code structure provided below for the ChessBoard. The main use of this code block write functions to initialize the board, draw the board, get the board state and move piece. You can add any other functions if needed.\n"
      ]
    },
    {
      "cell_type": "code",
      "metadata": {
        "id": "YdPwgSBOtb1P",
        "colab": {
          "base_uri": "https://localhost:8080/"
        },
        "outputId": "6304dd29-f9f8-4073-f6c0-16aedafadc87"
      },
      "source": [
        "# you can add/change the input parameters for each function \n",
        "# you can change the function names and also add more functions if needed\n",
        "\n",
        "\n",
        "def ChessBoardSetup():\n",
        "    # initialize and return a chess board - create a 2D 8x8 array that has the value for each cell\n",
        "    # USE the following characters for the chess pieces - lower-case for BLACK and upper-case for WHITE\n",
        "    # . for empty board cell\n",
        "    # p/P for pawn\n",
        "    # r/R for rook\n",
        "    # t/T for knight\n",
        "    # b/B for bishop\n",
        "    # q/Q for queen\n",
        "    # k/K for king\n",
        "  board = [['r', 't', 'b', 'q', 'k', 'b', 't', 'r'],\n",
        "           ['p', 'p', 'p', 'p', 'p', 'p', 'p', 'p'],\n",
        "           ['.', '.', '.', '.', '.', '.', '.', '.'],\n",
        "           ['.', '.', '.', '.', '.', '.', '.', '.'],\n",
        "           ['.', '.', '.', '.', '.', '.', '.', '.'],\n",
        "           ['.', '.', '.', '.', '.', '.', '.', '.'],\n",
        "           ['P', 'P', 'P', 'P', 'P', 'P', 'P', 'P'],\n",
        "           ['R', 'T', 'B', 'Q', 'K', 'B', 'T', 'R']\n",
        "          ]\n",
        "  return board\n",
        "\n",
        "def DrawBoard(chess_board):\n",
        "    # write code to print the board - following is one print example\n",
        "    # r t b q k b t r\n",
        "    # p p p p p p p p\n",
        "    # . . . . . . . .\n",
        "    # . . . . . . . .\n",
        "    # . . . . . . . .\n",
        "    # . . . . . . . .\n",
        "    # P P P P P P P P\n",
        "    # R T B Q K B T R\n",
        "    for r in chess_board:\n",
        "      for c in r:\n",
        "        print(c, end=\"  \")\n",
        "      print()\n",
        "\n",
        "def MovePiece(piece, from_loc, to_loc, board):\n",
        "    # write code to move the one chess piece\n",
        "    # you do not have to worry about the validity of the move - this will be done before calling this function\n",
        "    # this function will at least take the move (from-piece and to-piece) as input and return the new board layout\n",
        "    board[from_loc[0]][from_loc[1]] = '.'\n",
        "    board[to_loc[0]][to_loc[1]] = piece\n",
        "    return board\n",
        "  \n",
        "\n",
        "chess_board = ChessBoardSetup()\n",
        "# DrawBoard(chess_board)\n",
        "# chess_board = MovePiece('k', [2,4], [0,4], chess_board)\n",
        "DrawBoard(chess_board)"
      ],
      "execution_count": 4,
      "outputs": [
        {
          "output_type": "stream",
          "name": "stdout",
          "text": [
            "r  t  b  q  k  b  t  r  \n",
            "p  p  p  p  p  p  p  p  \n",
            ".  .  .  .  .  .  .  .  \n",
            ".  .  .  .  .  .  .  .  \n",
            ".  .  .  .  .  .  .  .  \n",
            ".  .  .  .  .  .  .  .  \n",
            "P  P  P  P  P  P  P  P  \n",
            "R  T  B  Q  K  B  T  R  \n"
          ]
        }
      ]
    },
    {
      "cell_type": "code",
      "source": [
        "class chess_board():\n",
        "  def __init__(self):\n",
        "    pass\n"
      ],
      "metadata": {
        "id": "jItt61BT7sAG"
      },
      "execution_count": 5,
      "outputs": []
    },
    {
      "cell_type": "markdown",
      "source": [
        "Chess Piece Class"
      ],
      "metadata": {
        "id": "cdugsJVe3Rp9"
      }
    },
    {
      "cell_type": "code",
      "source": [
        "class chess_piece():\n",
        "  \n",
        "  def __init__(self, piece_type, location, value, is_active, color):\n",
        "    self.piece_type = piece_type\n",
        "    self.location = location\n",
        "    self.value = value\n",
        "    self.color = color\n",
        "\n",
        "  def set_is_active(self, is_active):\n",
        "    self.is_active = is_active\n",
        "\n",
        "  def set_location(self, location):\n",
        "    self.location = location\n",
        "\n",
        "  def get_is_active(self):\n",
        "    return self.is_active\n",
        "  \n",
        "  def get_location(self):\n",
        "    return self.location\n",
        "\n",
        "  def get_value(self):\n",
        "    return self.value\n",
        "  \n",
        "  def get_color(self):\n",
        "    return self.color\n",
        "\n",
        "\n",
        "class pawn(chess_piece):\n",
        "  def __init__(self):\n",
        "    pass\n",
        "\n",
        "  def valid_moves(self):\n",
        "    move_list = []\n",
        "    return move_list\n",
        "\n",
        "class queen(chess_piece):\n",
        "  def __init__(self):  \n",
        "    pass\n",
        "    \n",
        "  def valid_moves(self):\n",
        "    move_list = []\n",
        "    return move_list\n",
        "\n",
        "class king(chess_piece):\n",
        "  def __init__(self):\n",
        "    pass\n",
        "\n",
        "  def valid_moves(self):\n",
        "    move_list = []\n",
        "    return move_list\n",
        "\n",
        "class bishop(chess_piece):\n",
        "  def __init__(self):\n",
        "    pass\n",
        "  def valid_moves(self):\n",
        "    move_list = []\n",
        "    return move_list\n",
        "\n",
        "class rook(chess_piece):\n",
        "  def __init__(self):\n",
        "    pass\n",
        "\n",
        "  def valid_moves(self):\n",
        "    move_list = []\n",
        "    return move_list\n",
        "\n",
        "class knight(chess_piece):\n",
        "  def __init__(self):\n",
        "    pass\n",
        "\n",
        "  def valid_moves(self):\n",
        "    move_list = []\n",
        "    return move_list"
      ],
      "metadata": {
        "id": "7fhhBZMf10mE"
      },
      "execution_count": 2,
      "outputs": []
    },
    {
      "cell_type": "markdown",
      "metadata": {
        "id": "lYxmgcnes9cS"
      },
      "source": [
        "##ChessRules\n",
        "\n",
        "(50 points)\n",
        "\n",
        "Fill the code in the code structure provided below for ChessRules. The main use of the code block is to write functions to design the rules for movement of each piece on the board. This block will also contain the function to check if the current player is in check, check-mate. You can also have functions that can return the current player's pieces that have legal moves in the current board state. \n",
        "\n",
        "Following are some **suggested** functions with the pseudocode provided. You can create/remove functions as needed.\n"
      ]
    },
    {
      "cell_type": "code",
      "metadata": {
        "id": "fbBNakSDq0Wv"
      },
      "source": [
        "# return True if the input move (from-square and to-square) is legal, else False\n",
        "# this is the KEY function which contains the rules for each piece type \n",
        "def IsMoveLegal(piece, from_square, to_square, board):\n",
        "    # input is from-square and to-square\n",
        "    # use the input and the board to get the from-piece and to-piece\n",
        "\n",
        "    # if from-square is the same as to-square\n",
        "        # return False\n",
        "    if from_square == to_square:\n",
        "      return False\n",
        "    \n",
        "    # if the from-piece is a \"pawn\"\n",
        "        ## case - pawn wants to move one step forward (or backward if white)\n",
        "        # if to-square is empty and is in the same column as the from-square\n",
        "            # return True\n",
        "        ## case - pawn can move two spaces forward (or backward if white) ONLY if pawn on starting row\n",
        "        # else if to-square is empty and from-square-row = 2 (or 7 if white) and to-square-row = from-square-row + 2 (or -2 if white)\n",
        "            # if IsClearPath() - a clear path exists between from-square and to-square\n",
        "                # return True\n",
        "        ## case - pawn attacks the enemy piece if diagonal\n",
        "        # else if there is piece diagonally forward (or backward if white) and that piece belongs to the enemy team\n",
        "            # return True\n",
        "\n",
        "    # case pawn\n",
        "    # if (board[from_square[0][from_square[1]]] == 'p' or board[from_square[0][from_square[1]]] == 'P'):\n",
        "    if piece.lower == 'p':\n",
        "      # if its empty and in the same column\n",
        "      if (board[to_square[0][to_square[1]]] == '.' and to_square[0] == from_square[0]):\n",
        "        return True\n",
        "      \n",
        "      ## case - pawn can move two spaces forward (or backward if white) ONLY if pawn on starting row\n",
        "      elif board[to_square[0][to_square[1]]] == '.' and (from_square[1] == 2 or from_square[1] == 1) and to_square[1] == (from_square[1]+2 or from_square[1] - 2):\n",
        "        if IsClearPath(from_square, to_square):\n",
        "          return True\n",
        "      elif \n",
        "\n",
        "\n",
        "    # else if the from-piece is a \"rook\"\n",
        "        # if to-square is either in the same row or column as the from-square\n",
        "            # if to-square is either empty or contains a piece that belongs to the enemy team\n",
        "                # if IsClearPath() - a clear path exists between from-square and to-square\n",
        "                    # return True\n",
        "\n",
        "    # else if the from-piece is a \"bishop\"\n",
        "        # if to-square is diagonal wrt from-square\n",
        "            # if to-square is either empty or contains a piece that belongs to the enemy team\n",
        "                # if IsClearPath() - a clear path exists between from-square and to-square\n",
        "                    # return True\n",
        "\n",
        "    # else if the from-piece is a \"queen\"\n",
        "        ## SAME as \"rook\"\n",
        "        # if to-square is either in the same row or column as the from-square\n",
        "            # if to-square is either empty or contains a piece that belongs to the enemy team\n",
        "                # if IsClearPath() - a clear path exists between from-square and to-square\n",
        "                    # return True\n",
        "        ## SAME as \"bishop\"\n",
        "        # if to-square is diagonal wrt from-square\n",
        "            # if to-square is either empty or contains a piece that belongs to the enemy team\n",
        "                # if IsClearPath() - a clear path exists between from-square and to-square\n",
        "                    # return True\n",
        "\n",
        "    # else if the from-piece is a \"knight\"\n",
        "        # calculate the col-diff = to-square-col - from-square-col\n",
        "        # calculate the row-diff = to-square-row - from-square-row\n",
        "        # if to-square is either empty or contains a piece that belongs to the enemy team\n",
        "            # return True for any of the following cases:\n",
        "                # col-diff = 1 & row_dif = -2\n",
        "                # col-diff = 2 & row_dif = -1\n",
        "                # col-diff = 2 & row_dif = 1\n",
        "                # col-diff = 1 & row_dif = 2\n",
        "                # col-diff = -1 & row_dif = -2\n",
        "                # col-diff = -2 & row_dif = -1\n",
        "                # col-diff = -2 & row_dif = 1\n",
        "                # col-diff = -1 & row_dif = 2\n",
        "\n",
        "    # else if the from-piece is a \"king\"\n",
        "        # calculate the col-diff = to-square-col - from-square-col\n",
        "        # calculate the row-diff = to-square-row - from-square-row\n",
        "        # if to-square is either empty or contains a piece that belongs to the enemy team\n",
        "            # return True for any of the following cases:\n",
        "                # abs(col-diff) = 1 & abs(row_dif) = 0\n",
        "                # abs(col-diff) = 0 & abs(row_dif) = 1\n",
        "                # abs(col-diff) = 1 & abs(row_dif) = 1\n",
        "\n",
        "    # return False - if none of the other True's are hit above\n",
        "\n",
        "\n",
        "\n",
        "# # gets a list of legal moves for a given piece\n",
        "# # input = from-square\n",
        "# # output = list of to-square locations where the piece can move to\n",
        "# def GetListOfLegalMoves():\n",
        "#     # input is the current player and the given piece as the from-square\n",
        "#     # initialize the list of legal moves, i.e., to-square locations to []\n",
        "#     # go through all squares on the board\n",
        "#     # for the selected square as to-square\n",
        "#         # call IsMoveLegal() with input as from-square and to-square and save the returned value\n",
        "#         # if returned value is True\n",
        "#             # call DoesMovePutPlayerInCheck() with input as from-square and to-square and save the returned value\n",
        "#             # if returned value is False\n",
        "#                 # append this move (to-square) as a legal move\n",
        "#     # return the list of legal moves, i.e., to-square locations\n",
        "\n",
        "\n",
        "\n",
        "# # gets a list of all pieces for the current player that have legal moves\n",
        "# def GetPiecesWithLegalMoves():\n",
        "#     # initialize the list of pieces with legal moves to []\n",
        "#     # go through all squares on the board\n",
        "#     # for the selected square\n",
        "#         # if the square contains a piece that belongs to the current player's team\n",
        "#             # call GetListOfLegalMoves() to get a list of all legal moves for the selected piece / square \n",
        "#             # if there are any legel moves\n",
        "#                 # append this piece to the list of pieces with legal moves\n",
        "#     # return the final list of pieces with legal moves\n",
        "\n",
        "\n",
        "\n",
        "# # returns True if the current player is in checkmate, else False\n",
        "# def IsCheckmate():\n",
        "#     # call GetPiecesWithLegalMoves() to get all legal moves for the current player\n",
        "#     # if there is no piece with any valid move\n",
        "#         # return True\n",
        "#     # else\n",
        "#         # return False\n",
        "\n",
        "\n",
        "\n",
        "# # returns True if the given player is in Check state\n",
        "# def IsInCheck():\n",
        "#     # find given player's King's location = king-square\n",
        "#     # go through all squares on the board\n",
        "#         # if there is a piece at that location and that piece is of the enemy team\n",
        "#             # call IsMoveLegal() for the enemy player from that square to the king-square\n",
        "#             # if the value returned is True\n",
        "#                 # return True\n",
        "#             # else\n",
        "#                 # do nothing and continue \n",
        "#     # return False at the end\n",
        "\n",
        "\n",
        "\n",
        "# # helper function to figure out if a move is legal for straight-line moves (rooks, bishops, queens, pawns)\n",
        "# # returns True if the path is clear for a move (from-square and to-square), non-inclusive\n",
        "def IsClearPath():\n",
        "    # given the move (from-square and to-square)\n",
        "\n",
        "    # if the from and to squares are only one square apart\n",
        "        # return True\n",
        "    # else\n",
        "        # if to-square is in the +ve vertical direction from from-square\n",
        "            # new-from-square = next square in the +ve vertical direction\n",
        "        # else if to-square is in the -ve vertical direction from from-square\n",
        "            # new-from-square = next square in the -ve vertical direction\n",
        "        # else if to-square is in the +ve horizontal direction from from-square\n",
        "            # new-from-square = next square in the +ve horizontal direction\n",
        "        # else if to-square is in the -ve horizontal direction from from-square\n",
        "            # new-from-square = next square in the -ve horizontal direction\n",
        "        # else if to-square is in the SE diagonal direction from from-square\n",
        "            # new-from-square = next square in the SE diagonal direction\n",
        "        # else if to-square is in the SW diagonal direction from from-square\n",
        "            # new-from-square = next square in the SW diagonal direction\n",
        "        # else if to-square is in the NE diagonal direction from from-square\n",
        "            # new-from-square = next square in the NE diagonal direction\n",
        "        # else if to-square is in the NW diagonal direction from from-square\n",
        "            # new-from-square = next square in the NW diagonal direction\n",
        "\n",
        "    # if new-from-square is not empty\n",
        "        # return False\n",
        "    # else\n",
        "        # return the result from the recursive call of IsClearPath() with the new-from-square and to-square\n",
        "a\n",
        "\n",
        "\n",
        "# # makes a hypothetical move (from-square and to-square)\n",
        "# # returns True if it puts current player into check\n",
        "# def DoesMovePutPlayerInCheck():\n",
        "#     # given the move (from-square and to-square), find the 'from-piece' and 'to-piece'\n",
        "#     # make the move temporarily by changing the 'board'\n",
        "#     # Call the IsInCheck() function to see if the 'player' is in check - save the returned value\n",
        "#     # Undo the temporary move\n",
        "#     # return the value saved - True if it puts current player into check, False otherwise\n",
        "\n",
        "\n"
      ],
      "execution_count": 62,
      "outputs": []
    },
    {
      "cell_type": "markdown",
      "metadata": {
        "id": "onnqJYTEq0l3"
      },
      "source": [
        "#Artificial Intelligence\n",
        "\n",
        "In this section, you will write code for the Artificial Intelligence (AI) that will play a game of chess. You will write 2 types of AI:\n",
        "\n",
        "1.   **RandomAI** - This part will contain code for moving a chess piece randomly.\n",
        "2.   **MinMaxAI** - This part will contain code for moving a chess piece using the MinMax strategy discussed in the lecture.\n"
      ]
    },
    {
      "cell_type": "markdown",
      "metadata": {
        "id": "eDNztBkTtRPw"
      },
      "source": [
        "##RandomAI\n",
        "\n",
        "(10 points)\n",
        "\n",
        "Complete the function below that will perform a random move for the given player. The function will return the move (from-piece and to-piece). You will most likely not need to write any other function, but you can, if needed.\n"
      ]
    },
    {
      "cell_type": "code",
      "metadata": {
        "id": "XELGzRDftS77"
      },
      "source": [
        "def GetRandomMove():\n",
        "    # pick a random piece and a random legal move for that piece\n",
        "\n",
        "    "
      ],
      "execution_count": null,
      "outputs": []
    },
    {
      "cell_type": "markdown",
      "metadata": {
        "id": "YvYowzzA4vcd"
      },
      "source": [
        "##MinMaxAI\n",
        "\n",
        "(50 points)\n",
        "\n",
        "Complete the functions below that will perform a move for the given player using the MinMax AI strategy. One function will evaluate the board if a move is performed - give score for each of piece and calculate the score for the entire chess board. In the second function you will write actual code for the MinMax strategy and return the move (from-piece and to-piece). To get the allocated points, searching should be **2-ply (one Max and one Min)**. You will most likely not need to write any other function, but you can, if needed.\n",
        "\n",
        "## Extra Credit\n",
        "\n",
        "*   **(5 points)** Modify the above MinMax strategy to be **4-ply (one Max, one Min, one Max, one Min)**.\n",
        "*   **(10 points)** Perform **alpha-beta pruning** for the MinMax strategy."
      ]
    },
    {
      "cell_type": "code",
      "metadata": {
        "id": "FYSK99zp5a7H"
      },
      "source": [
        "def evl():\n",
        "    # this function will calculate the score on the board, if a move is performed\n",
        "    # give score for each of piece and calculate the score for the chess board\n",
        "\n",
        "\n",
        "def GetMinMaxMove():\n",
        "    # return the best move for the current player using the MinMax strategy\n",
        "    # to get the allocated points, searching should be 2-ply (one Max and one Min)\n",
        "\n",
        "    # Following is the setup for a 2-ply game\n",
        "\n",
        "    # pieces = GetPiecesWithLegalMoves(curPlayer)\n",
        "    # for each piece in pieces\n",
        "        # moves = GetListOfLegalMoves(curPlayer, piece)\n",
        "        # for move in moves\n",
        "            # perform the move temporarily\n",
        "            # enemyPieces = GetPiecesWithLegalMoves(enemyPlayer)\n",
        "            # for enemyPiece in penemyPiecesieces\n",
        "                # enemyMoves = GetListOfLegalMoves(enemyPlayer, enemyPiece)\n",
        "                # for enemyMove in enemyMoves\n",
        "                    # perform the enemyMove temporarily\n",
        "                    # res = evl(curPlayer)\n",
        "                    # update the bestEnemyMove -- this is the MIN player trying to minimize from the 'res' evaluation values\n",
        "                    # undo the enemyMove\n",
        "            # update the bestMove -- this is the MAX player trying to maximize from the 'bestEnemyMove' evaluation values\n",
        "            # undo the move\n",
        "    # if bestMove found without any doubt, pick that\n",
        "    # if bestMove not found, pick randomly\n",
        "\n",
        "    # OPTIONAL -- sometimes automated chess keeps on performing the moves again and again\n",
        "    # e.g., move king left one square and then move king back - repeat\n",
        "    # For this you will need to remember the previous move and see if the current best move is not the same and opposite as the previous move\n",
        "    # If so, pick the second best move instead of the best move\n",
        "\n"
      ],
      "execution_count": null,
      "outputs": []
    },
    {
      "cell_type": "markdown",
      "metadata": {
        "id": "YCsUNyl3KWrb"
      },
      "source": [
        "#Game Setup & Main Loop\n",
        "\n",
        "(05 points)\n",
        "\n",
        "Write code below to have a game-play between two AIs - Random vs MinMax. For each iteration, draw the board before and after a turn. "
      ]
    },
    {
      "cell_type": "code",
      "metadata": {
        "id": "oYcy29SdK3Xn"
      },
      "source": [
        "# initialize and setup the board\n",
        "# player assignment and counter initializations\n",
        "\n",
        "# main game loop - while a player is not in checkmate or stalemate (<N turns)\n",
        "# below is the rough looping strategy\n",
        "while not IsCheckmate() and turns < N:\n",
        "    clear_output()\n",
        "    DrawBoard(board)\n",
        "\n",
        "    # write code to take turns and move the pieces\n",
        "    DrawBoard(board)\n",
        "    time.sleep(0.5)\n",
        "\n",
        "# check and print - Stalemate or Checkmate\n"
      ],
      "execution_count": null,
      "outputs": []
    },
    {
      "cell_type": "markdown",
      "metadata": {
        "id": "YJSFgNBQrhQU"
      },
      "source": [
        "#Submission Instructions\n",
        "\n",
        "1.   Complete all tasks above - **File MUST contain the output for ALL cells**\n",
        "2.   Export this notebook as .ipynb\n",
        "      (File > Download as ipynb)\n",
        "3.   Upload the .ipynb file on Blackboard\n",
        "\n"
      ]
    },
    {
      "cell_type": "markdown",
      "metadata": {
        "id": "0lGvLE9H6ptL"
      },
      "source": [
        "##Rubric\n",
        "\n",
        "*   (10 points) Chess Board Setup\n",
        "*   (50 points) Chess Rules Setup\n",
        "*   (10 points) Random AI\n",
        "*   (50 points) MinMax AI (2-ply)\n",
        "*   (05 points) Game Main Loop - Random vs MinMax\n",
        "*   (15 points) Extra Credit - 4-ply MinMax + alpha-beta pruning\n",
        "\n",
        "\n",
        "\n"
      ]
    }
  ]
}